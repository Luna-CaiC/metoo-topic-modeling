{
 "cells": [
  {
   "cell_type": "code",
   "execution_count": null,
   "id": "9a1efdaa-25c4-411a-8bc4-2681980a4893",
   "metadata": {},
   "outputs": [],
   "source": [
    "import pandas as pd\n",
    "import re\n",
    "\n",
    "# Define the input and output file paths\n",
    "input_file = \"metoo_tweets_dec2017.xlsx\"  # Replace with your Excel file path\n",
    "output_file = \"Cleaned_Metoo_Tweets.csv\"\n",
    "\n",
    "# Define a function to clean the text\n",
    "def clean_text(text):\n",
    "    if isinstance(text, str):\n",
    "        # Remove HTTPS links\n",
    "        text = re.sub(r'http\\S+', '', text)\n",
    "        # Remove \"FALSE\"\n",
    "        text = text.replace(\"FALSE\", \"\").strip()\n",
    "    return text\n",
    "\n",
    "# Load the Excel file and specify columns to keep\n",
    "data = pd.read_excel(input_file, usecols=[\"id\", \"created\", \"text\"])\n",
    "\n",
    "# Clean the 'text' column and remove rows with any empty cells\n",
    "data['text'] = data['text'].apply(clean_text)\n",
    "cleaned_data = data.dropna(subset=[\"id\", \"created\", \"text\"])\n",
    "\n",
    "# Save the cleaned data to a CSV file\n",
    "cleaned_data.to_csv(output_file, index=False)\n",
    "\n",
    "print(f\"Cleaned data saved to {output_file}\")"
   ]
  },
  {
   "cell_type": "code",
   "execution_count": null,
   "id": "1cbbaa0d",
   "metadata": {},
   "outputs": [],
   "source": [
    "import pandas as pd\n",
    "import re\n",
    "\n",
    "# Loading the dataset\n",
    "file_path = 'cleaned_metoo_tweets.csv'  \n",
    "data = pd.read_csv(file_path)\n",
    "\n",
    "# Defining the revised text cleaning function\n",
    "def clean_text(text):\n",
    "    if not isinstance(text, str) or text.strip().lower() in {\"true\", \"nan\", \"\"}:\n",
    "        return None  # Marking+++-----------++++++++++++++++++++++++++++++++ invalid or empty text as None\n",
    "\n",
    "    # Here Removing URLs\n",
    "    text = re.sub(r'http\\S+|www\\S+|https\\S+', '', text, flags=re.MULTILINE)\n",
    "\n",
    "    # Now Removing special characters, punctuation, and hashtags\n",
    "    text = re.sub(r'\\@\\w+|\\#', '', text)  # Remove @mentions and hashtags\n",
    "    text = re.sub(r'\\W', ' ', text)\n",
    "\n",
    "    # Converting to lowercase\n",
    "    text = text.lower()\n",
    "\n",
    "    # Removing common stopwords manually\n",
    "    stopwords = {\"and\", \"the\", \"to\", \"a\", \"of\", \"in\", \"for\", \"with\", \"on\", \"is\", \"that\", \"this\", \"it\", \"as\"}\n",
    "    tokens = text.split()\n",
    "    tokens = [word for word in tokens if word not in stopwords]\n",
    "    return ' '.join(tokens)\n",
    "\n",
    "data['cleaned_text'] = data['cleaned_text'].apply(clean_text)\n",
    "\n",
    "# Drop rows where 'cleaned_text' is None\n",
    "data = data.dropna(subset=['cleaned_text'])\n",
    "\n",
    "# Save the data\n",
    "output_file = 'cleaned_metoo_tweets.csv'\n",
    "data.to_csv(output_file, index=False)\n",
    "print(f\"Cleaned data saved to {output_file}\")"
   ]
  }
 ],
 "metadata": {
  "kernelspec": {
   "display_name": "Python 3 (ipykernel)",
   "language": "python",
   "name": "python3"
  },
  "language_info": {
   "codemirror_mode": {
    "name": "ipython",
    "version": 3
   },
   "file_extension": ".py",
   "mimetype": "text/x-python",
   "name": "python",
   "nbconvert_exporter": "python",
   "pygments_lexer": "ipython3",
   "version": "3.12.7"
  }
 },
 "nbformat": 4,
 "nbformat_minor": 5
}
